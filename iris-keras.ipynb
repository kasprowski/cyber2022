{
 "cells": [
  {
   "cell_type": "code",
   "execution_count": 1,
   "metadata": {
    "scrolled": true
   },
   "outputs": [],
   "source": [
    "from tensorflow.keras.models import Sequential\n",
    "from tensorflow.keras.layers import Dense\n",
    "import pandas as pd\n",
    "import numpy as np\n",
    "import sklearn\n",
    "import tensorflow as tf\n",
    "from sklearn.metrics import classification_report, confusion_matrix, accuracy_score, cohen_kappa_score"
   ]
  },
  {
   "cell_type": "code",
   "execution_count": null,
   "metadata": {},
   "outputs": [],
   "source": [
    "# Download iris dataset\n",
    "!wget http://www.kasprowski.pl/datasets/iris.data"
   ]
  },
  {
   "cell_type": "markdown",
   "metadata": {},
   "source": [
    "## Build the network (model)"
   ]
  },
  {
   "cell_type": "code",
   "execution_count": 2,
   "metadata": {},
   "outputs": [
    {
     "name": "stdout",
     "output_type": "stream",
     "text": [
      "Model: \"sequential\"\n",
      "_________________________________________________________________\n",
      "Layer (type)                 Output Shape              Param #   \n",
      "=================================================================\n",
      "dense (Dense)                (None, 50)                250       \n",
      "_________________________________________________________________\n",
      "dense_1 (Dense)              (None, 50)                2550      \n",
      "_________________________________________________________________\n",
      "dense_2 (Dense)              (None, 1)                 51        \n",
      "=================================================================\n",
      "Total params: 2,851\n",
      "Trainable params: 2,851\n",
      "Non-trainable params: 0\n",
      "_________________________________________________________________\n"
     ]
    }
   ],
   "source": [
    "model = Sequential()\n",
    "model.add(Dense(50, input_dim=4, activation='sigmoid'))\n",
    "model.add(Dense(50, activation='sigmoid'))\n",
    "model.add(Dense(1, activation='sigmoid'))\n",
    "model.summary()"
   ]
  },
  {
   "cell_type": "markdown",
   "metadata": {},
   "source": [
    "## Load data (and remove one class)"
   ]
  },
  {
   "cell_type": "code",
   "execution_count": 3,
   "metadata": {},
   "outputs": [
    {
     "name": "stdout",
     "output_type": "stream",
     "text": [
      "Rows: 150\n",
      "Rows after removal of 'Iris-virginica': 100\n"
     ]
    }
   ],
   "source": [
    "data = pd.read_csv('iris.data')\n",
    "print(\"Rows:\",len(data))\n",
    "data = data.drop(data[data.iris=='Iris-virginica'].index)\n",
    "print(\"Rows after removal of 'Iris-virginica':\",len(data))"
   ]
  },
  {
   "cell_type": "markdown",
   "metadata": {},
   "source": [
    "## Prepare samples and labels"
   ]
  },
  {
   "cell_type": "code",
   "execution_count": 4,
   "metadata": {},
   "outputs": [
    {
     "name": "stdout",
     "output_type": "stream",
     "text": [
      "Classes: {'Iris-setosa', 'Iris-versicolor'}\n",
      "Classes after renaming: {0.0, 1.0}\n",
      "Samples: (100, 4)\n",
      "Labels: (100,)\n"
     ]
    }
   ],
   "source": [
    "print(\"Classes:\",set(data['iris']))\n",
    "samples = data.to_numpy()[:,:4]\n",
    "samples = samples.astype(float)\n",
    "labels = data.to_numpy()[:,4]\n",
    "\n",
    "labels[labels[:]=='Iris-versicolor']=0\n",
    "labels[labels[:]=='Iris-setosa']=1\n",
    "#labels[labels[:]=='Iris-virginica']=2\n",
    "labels = labels.astype(float)\n",
    "print(\"Classes after renaming:\",set(labels))\n",
    "\n",
    "print(\"Samples:\",samples.shape)\n",
    "print(\"Labels:\",labels.shape)\n"
   ]
  },
  {
   "cell_type": "markdown",
   "metadata": {},
   "source": [
    "## Compile and fit model"
   ]
  },
  {
   "cell_type": "code",
   "execution_count": 12,
   "metadata": {},
   "outputs": [],
   "source": [
    "import sklearn.model_selection\n",
    "(trainSamples, testSamples, trainLabels, testLabels) = sklearn.model_selection.train_test_split(samples, labels, random_state=1)\n",
    "\n",
    "model.compile(loss='binary_crossentropy', optimizer=\"adam\",metrics=['accuracy'])"
   ]
  },
  {
   "cell_type": "code",
   "execution_count": 7,
   "metadata": {},
   "outputs": [
    {
     "name": "stdout",
     "output_type": "stream",
     "text": [
      "Epoch 1/10\n",
      "8/8 [==============================] - 0s 1000us/step - loss: 0.6748 - accuracy: 0.5333\n",
      "Epoch 2/10\n",
      "8/8 [==============================] - 0s 1ms/step - loss: 0.6625 - accuracy: 0.5333\n",
      "Epoch 3/10\n",
      "8/8 [==============================] - 0s 1ms/step - loss: 0.6522 - accuracy: 0.5467\n",
      "Epoch 4/10\n",
      "8/8 [==============================] - 0s 950us/step - loss: 0.6435 - accuracy: 0.9733\n",
      "Epoch 5/10\n",
      "8/8 [==============================] - 0s 1ms/step - loss: 0.6319 - accuracy: 1.0000\n",
      "Epoch 6/10\n",
      "8/8 [==============================] - 0s 875us/step - loss: 0.6182 - accuracy: 0.9467\n",
      "Epoch 7/10\n",
      "8/8 [==============================] - 0s 876us/step - loss: 0.6042 - accuracy: 0.9467\n",
      "Epoch 8/10\n",
      "8/8 [==============================] - 0s 1ms/step - loss: 0.5895 - accuracy: 0.9333\n",
      "Epoch 9/10\n",
      "8/8 [==============================] - 0s 1ms/step - loss: 0.5736 - accuracy: 0.9733\n",
      "Epoch 10/10\n",
      "8/8 [==============================] - 0s 1ms/step - loss: 0.5565 - accuracy: 0.9733\n"
     ]
    }
   ],
   "source": [
    "H = model.fit(trainSamples, trainLabels, epochs=10,batch_size=10)    "
   ]
  },
  {
   "cell_type": "markdown",
   "metadata": {},
   "source": [
    "## Evaluate model"
   ]
  },
  {
   "cell_type": "code",
   "execution_count": 8,
   "metadata": {},
   "outputs": [
    {
     "name": "stdout",
     "output_type": "stream",
     "text": [
      "[[0 0 1 0 0 1 1 0 0 0 0 1 0 0 0 1 1 1 0 1 1 0 0 0 1]]\n",
      "[[15  0]\n",
      " [ 0 10]]\n",
      "              precision    recall  f1-score   support\n",
      "\n",
      "         0.0       1.00      1.00      1.00        15\n",
      "         1.0       1.00      1.00      1.00        10\n",
      "\n",
      "    accuracy                           1.00        25\n",
      "   macro avg       1.00      1.00      1.00        25\n",
      "weighted avg       1.00      1.00      1.00        25\n",
      "\n",
      "Cohen's Kappa: 1.0\n",
      "Accuracy:  1.0\n"
     ]
    }
   ],
   "source": [
    "testResults = model.predict(testSamples)\n",
    "testResults = (testResults*2).astype(dtype=int) #conversion to (0,1)\n",
    "print(testResults.T)\n",
    "print(confusion_matrix(testLabels, testResults))\n",
    "print(classification_report(testLabels, testResults))\n",
    "print(\"Cohen's Kappa: {}\".format(cohen_kappa_score(testLabels, testResults)))\n",
    "print(\"Accuracy: \",accuracy_score(testLabels, testResults))\n"
   ]
  },
  {
   "cell_type": "markdown",
   "metadata": {},
   "source": [
    "# Dataset with three classes"
   ]
  },
  {
   "cell_type": "code",
   "execution_count": 13,
   "metadata": {},
   "outputs": [
    {
     "name": "stdout",
     "output_type": "stream",
     "text": [
      "Rows: 150\n",
      "Classes: {'Iris-setosa', 'Iris-versicolor', 'Iris-virginica'}\n",
      "Samples: (150, 4)\n",
      "Labels: (150,)\n"
     ]
    }
   ],
   "source": [
    "data = pd.read_csv('iris.data')\n",
    "print(\"Rows:\",len(data))\n",
    "print(\"Classes:\",set(data['iris']))\n",
    "samples = data.to_numpy()[:,:4] \n",
    "labels = data.to_numpy()[:,4]\n",
    "samples = samples.astype(float)\n",
    "\n",
    "labels[labels[:]=='Iris-versicolor']=0\n",
    "labels[labels[:]=='Iris-setosa']=1\n",
    "labels[labels[:]=='Iris-virginica']=2\n",
    "labels = labels.astype(float)\n",
    "\n",
    "print(\"Samples:\",samples.shape)\n",
    "print(\"Labels:\",labels.shape)"
   ]
  },
  {
   "cell_type": "code",
   "execution_count": 31,
   "metadata": {},
   "outputs": [],
   "source": [
    "import sklearn.model_selection\n",
    "(trainSamples, testSamples, trainLabels, testLabels) = sklearn.model_selection.train_test_split(samples, labels)"
   ]
  },
  {
   "cell_type": "code",
   "execution_count": 14,
   "metadata": {},
   "outputs": [],
   "source": [
    "#model.compile(loss='binary_crossentropy', optimizer=\"adam\",metrics=['accuracy'])\n",
    "#model.compile(loss='sparse_categorical_crossentropy', optimizer=\"adam\",metrics=['accuracy'])\n",
    "model.compile(loss='categorical_crossentropy', optimizer=\"adam\",metrics=['accuracy'])"
   ]
  },
  {
   "cell_type": "code",
   "execution_count": 15,
   "metadata": {},
   "outputs": [
    {
     "name": "stdout",
     "output_type": "stream",
     "text": [
      "Epoch 1/10\n",
      " 1/12 [=>............................] - ETA: 0s - loss: 9.5367e-08 - accuracy: 0.8000WARNING:tensorflow:Callbacks method `on_train_batch_begin` is slow compared to the batch time (batch time: 0.0000s vs `on_train_batch_begin` time: 0.0010s). Check your callbacks.\n",
      "WARNING:tensorflow:Callbacks method `on_train_batch_end` is slow compared to the batch time (batch time: 0.0000s vs `on_train_batch_end` time: 0.0010s). Check your callbacks.\n",
      "12/12 [==============================] - 0s 999us/step - loss: 1.2666e-07 - accuracy: 0.6339\n",
      "Epoch 2/10\n",
      "12/12 [==============================] - 0s 906us/step - loss: 1.2666e-07 - accuracy: 0.6339\n",
      "Epoch 3/10\n",
      "12/12 [==============================] - 0s 999us/step - loss: 1.2666e-07 - accuracy: 0.6339\n",
      "Epoch 4/10\n",
      "12/12 [==============================] - 0s 914us/step - loss: 1.2666e-07 - accuracy: 0.6339\n",
      "Epoch 5/10\n",
      "12/12 [==============================] - 0s 833us/step - loss: 1.2666e-07 - accuracy: 0.6339\n",
      "Epoch 6/10\n",
      "12/12 [==============================] - 0s 920us/step - loss: 1.2666e-07 - accuracy: 0.6339\n",
      "Epoch 7/10\n",
      "12/12 [==============================] - 0s 1ms/step - loss: 1.2666e-07 - accuracy: 0.6339\n",
      "Epoch 8/10\n",
      "12/12 [==============================] - 0s 1ms/step - loss: 1.2666e-07 - accuracy: 0.6339\n",
      "Epoch 9/10\n",
      "12/12 [==============================] - 0s 1ms/step - loss: 1.2666e-07 - accuracy: 0.6339\n",
      "Epoch 10/10\n",
      "12/12 [==============================] - 0s 1ms/step - loss: 1.2666e-07 - accuracy: 0.6339\n"
     ]
    }
   ],
   "source": [
    "H = model.fit(trainSamples, trainLabels, epochs=10,batch_size=10)    "
   ]
  },
  {
   "cell_type": "markdown",
   "metadata": {},
   "source": [
    "## Evaluate model"
   ]
  },
  {
   "cell_type": "code",
   "execution_count": 16,
   "metadata": {},
   "outputs": [
    {
     "name": "stdout",
     "output_type": "stream",
     "text": [
      "[[0.6360789  0.50631374 0.45345643 0.6251399  0.3924384  0.4409843\n",
      "  0.41659284 0.5942573  0.6035379  0.39765352 0.45365062 0.6062966\n",
      "  0.39212823 0.44957143 0.44303638 0.61713296 0.46365035 0.44234675\n",
      "  0.6093655  0.62401736 0.44505614 0.44128665 0.4259042  0.62093395\n",
      "  0.39571154 0.45991272 0.6284845  0.6155497  0.43910074 0.4140893\n",
      "  0.4426362  0.38697803 0.46730435 0.39534396 0.40525287 0.6169968\n",
      "  0.4558947  0.61761975]]\n",
      "[[1 1 0 1 0 0 0 1 1 0 0 1 0 0 0 1 0 0 1 1 0 0 0 1 0 0 1 1 0 0 0 0 0 0 0 1\n",
      "  0 1]]\n",
      "[[15  1  0]\n",
      " [ 0 13  0]\n",
      " [ 9  0  0]]\n",
      "              precision    recall  f1-score   support\n",
      "\n",
      "         0.0       0.62      0.94      0.75        16\n",
      "         1.0       0.93      1.00      0.96        13\n",
      "         2.0       0.00      0.00      0.00         9\n",
      "\n",
      "    accuracy                           0.74        38\n",
      "   macro avg       0.52      0.65      0.57        38\n",
      "weighted avg       0.58      0.74      0.65        38\n",
      "\n",
      "Cohen's Kappa: 0.5671981776765376\n",
      "Accuracy:  0.7368421052631579\n"
     ]
    },
    {
     "name": "stderr",
     "output_type": "stream",
     "text": [
      "C:\\programs\\miniconda3\\envs\\deep\\lib\\site-packages\\sklearn\\metrics\\_classification.py:1221: UndefinedMetricWarning: Precision and F-score are ill-defined and being set to 0.0 in labels with no predicted samples. Use `zero_division` parameter to control this behavior.\n",
      "  _warn_prf(average, modifier, msg_start, len(result))\n"
     ]
    }
   ],
   "source": [
    "testResults = model.predict(testSamples)\n",
    "print(testResults.T)\n",
    "testResults = (testResults*2).astype(dtype=int) #conversion to (0,1)\n",
    "print(testResults.T)\n",
    "print(confusion_matrix(testLabels, testResults))\n",
    "print(classification_report(testLabels, testResults))\n",
    "print(\"Cohen's Kappa: {}\".format(cohen_kappa_score(testLabels, testResults)))\n",
    "print(\"Accuracy: \",accuracy_score(testLabels, testResults))"
   ]
  },
  {
   "cell_type": "markdown",
   "metadata": {},
   "source": [
    "What is the problem?\n",
    "The output is a number - no way that ANN learns the proper output!"
   ]
  },
  {
   "cell_type": "markdown",
   "metadata": {},
   "source": [
    "## Change to one-hot encoding"
   ]
  },
  {
   "cell_type": "code",
   "execution_count": 17,
   "metadata": {},
   "outputs": [
    {
     "name": "stdout",
     "output_type": "stream",
     "text": [
      "(150,)\n",
      "(150, 3)\n"
     ]
    }
   ],
   "source": [
    "print(labels.shape)\n",
    "labels = tf.keras.utils.to_categorical(labels)\n",
    "print(labels.shape)"
   ]
  },
  {
   "cell_type": "markdown",
   "metadata": {},
   "source": [
    "## New model (output: vector of 3 values)"
   ]
  },
  {
   "cell_type": "code",
   "execution_count": 18,
   "metadata": {},
   "outputs": [
    {
     "name": "stdout",
     "output_type": "stream",
     "text": [
      "Model: \"sequential_1\"\n",
      "_________________________________________________________________\n",
      "Layer (type)                 Output Shape              Param #   \n",
      "=================================================================\n",
      "dense_3 (Dense)              (None, 50)                250       \n",
      "_________________________________________________________________\n",
      "dense_4 (Dense)              (None, 50)                2550      \n",
      "_________________________________________________________________\n",
      "dense_5 (Dense)              (None, 3)                 153       \n",
      "=================================================================\n",
      "Total params: 2,953\n",
      "Trainable params: 2,953\n",
      "Non-trainable params: 0\n",
      "_________________________________________________________________\n"
     ]
    }
   ],
   "source": [
    "model = Sequential()\n",
    "model.add(Dense(50, input_dim=4, activation='sigmoid'))\n",
    "model.add(Dense(50, activation='sigmoid'))\n",
    "#model.add(Dense(1, activation='sigmoid'))\n",
    "#model.add(Dense(3, activation='sigmoid')) # three values\n",
    "model.add(Dense(3, activation='softmax')) # three values and normalization (output sums to 1)\n",
    "\n",
    "model.summary()"
   ]
  },
  {
   "cell_type": "markdown",
   "metadata": {},
   "source": [
    "### Train model"
   ]
  },
  {
   "cell_type": "code",
   "execution_count": 20,
   "metadata": {},
   "outputs": [],
   "source": [
    "(trainSamples, testSamples, trainLabels, testLabels) = sklearn.model_selection.train_test_split(samples, labels, random_state=1)\n",
    "model.compile(loss='categorical_crossentropy', optimizer=\"adam\",metrics=['accuracy'])"
   ]
  },
  {
   "cell_type": "code",
   "execution_count": 21,
   "metadata": {},
   "outputs": [
    {
     "name": "stdout",
     "output_type": "stream",
     "text": [
      "Epoch 1/10\n",
      " 1/12 [=>............................] - ETA: 0s - loss: 1.1628 - accuracy: 0.4000WARNING:tensorflow:Callbacks method `on_train_batch_end` is slow compared to the batch time (batch time: 0.0000s vs `on_train_batch_end` time: 0.0015s). Check your callbacks.\n",
      "WARNING:tensorflow:Callbacks method `on_test_batch_end` is slow compared to the batch time (batch time: 0.0000s vs `on_test_batch_end` time: 0.0010s). Check your callbacks.\n",
      "12/12 [==============================] - 0s 14ms/step - loss: 1.1353 - accuracy: 0.3661 - val_loss: 1.1337 - val_accuracy: 0.2368\n",
      "Epoch 2/10\n",
      "12/12 [==============================] - 0s 2ms/step - loss: 1.0970 - accuracy: 0.3661 - val_loss: 1.1013 - val_accuracy: 0.2368\n",
      "Epoch 3/10\n",
      "12/12 [==============================] - 0s 2ms/step - loss: 1.0802 - accuracy: 0.3661 - val_loss: 1.0815 - val_accuracy: 0.2368\n",
      "Epoch 4/10\n",
      "12/12 [==============================] - 0s 2ms/step - loss: 1.0670 - accuracy: 0.3661 - val_loss: 1.0782 - val_accuracy: 0.2368\n",
      "Epoch 5/10\n",
      "12/12 [==============================] - 0s 2ms/step - loss: 1.0556 - accuracy: 0.3661 - val_loss: 1.0840 - val_accuracy: 0.2368\n",
      "Epoch 6/10\n",
      "12/12 [==============================] - 0s 2ms/step - loss: 1.0387 - accuracy: 0.3839 - val_loss: 1.0723 - val_accuracy: 0.4474\n",
      "Epoch 7/10\n",
      "12/12 [==============================] - 0s 2ms/step - loss: 1.0184 - accuracy: 0.6696 - val_loss: 1.0403 - val_accuracy: 0.5789\n",
      "Epoch 8/10\n",
      "12/12 [==============================] - 0s 2ms/step - loss: 1.0018 - accuracy: 0.6964 - val_loss: 1.0241 - val_accuracy: 0.5789\n",
      "Epoch 9/10\n",
      "12/12 [==============================] - 0s 2ms/step - loss: 0.9766 - accuracy: 0.6964 - val_loss: 0.9902 - val_accuracy: 0.5789\n",
      "Epoch 10/10\n",
      "12/12 [==============================] - 0s 2ms/step - loss: 0.9491 - accuracy: 0.6964 - val_loss: 0.9643 - val_accuracy: 0.5789\n"
     ]
    }
   ],
   "source": [
    "H = model.fit(trainSamples, trainLabels, epochs=10,batch_size=10, validation_data=(testSamples,testLabels))    "
   ]
  },
  {
   "cell_type": "markdown",
   "metadata": {},
   "source": [
    "### Evaluate model (it is one-hot encoded!)"
   ]
  },
  {
   "cell_type": "code",
   "execution_count": 22,
   "metadata": {},
   "outputs": [
    {
     "name": "stdout",
     "output_type": "stream",
     "text": [
      "[[0.2754268  0.4555409  0.26903233]\n",
      " [0.31295207 0.33206806 0.3549799 ]\n",
      " [0.31403086 0.28844523 0.39752394]\n",
      " [0.27972707 0.44285664 0.27741626]\n",
      " [0.3122603  0.2395349  0.44820485]\n",
      " [0.31417018 0.27597788 0.40985197]\n",
      " [0.31682265 0.25543204 0.42774525]\n",
      " [0.28802577 0.41352323 0.29845104]\n",
      " [0.28845218 0.4252173  0.28633052]\n",
      " [0.31717503 0.2417003  0.44112465]\n",
      " [0.317479   0.28852227 0.39399865]\n",
      " [0.284422   0.4247806  0.29079744]\n",
      " [0.3181494  0.23993573 0.4419149 ]\n",
      " [0.31372255 0.2836975  0.40257993]\n",
      " [0.31672138 0.27899808 0.4042805 ]\n",
      " [0.28546843 0.43807456 0.276457  ]\n",
      " [0.31647348 0.29766592 0.38586056]\n",
      " [0.3170057  0.27757564 0.4054187 ]\n",
      " [0.2857676  0.42858297 0.28564942]\n",
      " [0.28267145 0.44495496 0.2723735 ]\n",
      " [0.31900325 0.28275433 0.39824244]\n",
      " [0.31753427 0.2765241  0.40594164]\n",
      " [0.31645054 0.26578194 0.41776752]\n",
      " [0.2825546  0.44040966 0.27703574]\n",
      " [0.31634772 0.243547   0.44010532]\n",
      " [0.31604832 0.29323345 0.39071822]\n",
      " [0.27693877 0.44769377 0.27536753]\n",
      " [0.2825647  0.4347454  0.28268993]\n",
      " [0.31708065 0.2785361  0.4043832 ]\n",
      " [0.3212298  0.25690633 0.42186388]\n",
      " [0.31584927 0.2792313  0.40491942]\n",
      " [0.31773916 0.23658887 0.445672  ]\n",
      " [0.3169294  0.30126867 0.3818019 ]\n",
      " [0.3204097  0.24161272 0.4379776 ]\n",
      " [0.321388   0.24608733 0.43252465]\n",
      " [0.28203312 0.43742812 0.28053883]\n",
      " [0.31991363 0.29132444 0.38876194]\n",
      " [0.28323773 0.43852362 0.27823868]]\n",
      "[1 2 2 1 2 2 2 1 1 2 2 1 2 2 2 1 2 2 1 1 2 2 2 1 2 2 1 1 2 2 2 2 2 2 2 1 2\n",
      " 1]\n",
      "[[ 0  0 16]\n",
      " [ 0 13  0]\n",
      " [ 0  0  9]]\n",
      "              precision    recall  f1-score   support\n",
      "\n",
      "           0       0.00      0.00      0.00        16\n",
      "           1       1.00      1.00      1.00        13\n",
      "           2       0.36      1.00      0.53         9\n",
      "\n",
      "    accuracy                           0.58        38\n",
      "   macro avg       0.45      0.67      0.51        38\n",
      "weighted avg       0.43      0.58      0.47        38\n",
      "\n",
      "Cohen's Kappa: 0.42095238095238097\n",
      "Accuracy:  0.5789473684210527\n"
     ]
    }
   ],
   "source": [
    "testResults = model.predict(testSamples)\n",
    "print(testResults)\n",
    "print(testResults.argmax(axis=1))\n",
    "\n",
    "print(confusion_matrix(testLabels.argmax(axis=1), testResults.argmax(axis=1)))\n",
    "print(classification_report(testLabels.argmax(axis=1), testResults.argmax(axis=1)))\n",
    "print(\"Cohen's Kappa: {}\".format(cohen_kappa_score(testLabels.argmax(axis=1), testResults.argmax(axis=1))))\n",
    "print(\"Accuracy: \",accuracy_score(testLabels.argmax(axis=1), testResults.argmax(axis=1)))\n"
   ]
  },
  {
   "cell_type": "code",
   "execution_count": 23,
   "metadata": {},
   "outputs": [
    {
     "name": "stdout",
     "output_type": "stream",
     "text": [
      "[[1, 2, 3, 4]] -> [[0.34382352 0.25904652 0.39712992]]\n",
      "[0.317479   0.28852227 0.39399865] -> [1. 0. 0.]\n",
      "[0.284422   0.4247806  0.29079744] -> [0. 1. 0.]\n",
      "[0.3181494  0.23993573 0.4419149 ] -> [0. 0. 1.]\n",
      "[0.31372255 0.2836975  0.40257993] -> [1. 0. 0.]\n"
     ]
    }
   ],
   "source": [
    "sample = [[1,2,3,4]]\n",
    "pred = model.predict(sample)\n",
    "print(sample,'->',pred)\n",
    "\n",
    "pred = model.predict(testSamples[10:14])\n",
    "for p,t in zip(pred[0:4],testLabels[10:14]):\n",
    "    print(p,\"->\",t)\n"
   ]
  },
  {
   "cell_type": "code",
   "execution_count": 12,
   "metadata": {},
   "outputs": [],
   "source": [
    "model.save('iris.h5')"
   ]
  }
 ],
 "metadata": {
  "kernelspec": {
   "display_name": "Python 3",
   "language": "python",
   "name": "python3"
  },
  "language_info": {
   "codemirror_mode": {
    "name": "ipython",
    "version": 3
   },
   "file_extension": ".py",
   "mimetype": "text/x-python",
   "name": "python",
   "nbconvert_exporter": "python",
   "pygments_lexer": "ipython3",
   "version": "3.8.5"
  }
 },
 "nbformat": 4,
 "nbformat_minor": 4
}
